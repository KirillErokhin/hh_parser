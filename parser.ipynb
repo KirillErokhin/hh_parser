{
 "cells": [
  {
   "cell_type": "code",
   "execution_count": 1,
   "id": "01094464-0eea-47f3-9f57-6c0e0d049235",
   "metadata": {
    "tags": []
   },
   "outputs": [],
   "source": [
    "from hh_parser import vac_parser\n",
    "import os\n",
    "import pandas as pd\n",
    "\n",
    "import warnings\n",
    "warnings.filterwarnings(\"ignore\")"
   ]
  },
  {
   "cell_type": "code",
   "execution_count": 2,
   "id": "b39cfd99-16b3-40bf-a3f9-1afa492325b9",
   "metadata": {
    "tags": []
   },
   "outputs": [
    {
     "name": "stdout",
     "output_type": "stream",
     "text": [
      "Количество страниц для парсинга: 166\n"
     ]
    }
   ],
   "source": [
    "url = 'https://api.hh.ru/vacancies'\n",
    "\n",
    "text = 'data python'\n",
    "\n",
    "path = os.getcwd()\n",
    "\n",
    "parser = vac_parser(url, path, text)\n",
    "parser.check_num_pages()"
   ]
  },
  {
   "cell_type": "code",
   "execution_count": 3,
   "id": "4fc54c47-75f8-483c-a0c4-cc93c16d6d1e",
   "metadata": {
    "tags": []
   },
   "outputs": [
    {
     "name": "stderr",
     "output_type": "stream",
     "text": [
      " 34%|█████████████████████████████████████████████████████████                                                                                                             | 57/166 [07:02<13:49,  7.61s/it]"
     ]
    },
    {
     "name": "stdout",
     "output_type": "stream",
     "text": [
      "https://api.hh.ru/vacancies/79047478?host=hh.ru\n"
     ]
    },
    {
     "name": "stderr",
     "output_type": "stream",
     "text": [
      " 51%|█████████████████████████████████████████████████████████████████████████████████████                                                                                 | 85/166 [10:49<10:39,  7.89s/it]"
     ]
    },
    {
     "name": "stdout",
     "output_type": "stream",
     "text": [
      "https://api.hh.ru/vacancies/78832982?host=hh.ru\n"
     ]
    },
    {
     "name": "stderr",
     "output_type": "stream",
     "text": [
      "100%|█████████████████████████████████████████████████████████████████████████████████████████████████████████████████████████████████████████████████████████████████████| 166/166 [20:59<00:00,  7.59s/it]\n"
     ]
    }
   ],
   "source": [
    "parser.start_final_parse()"
   ]
  },
  {
   "cell_type": "code",
   "execution_count": 4,
   "id": "7a8f5fe5-dde1-4239-bc5a-3891a8ea34d2",
   "metadata": {
    "tags": []
   },
   "outputs": [
    {
     "name": "stdout",
     "output_type": "stream",
     "text": [
      "Информация о сегодня сохранена\n"
     ]
    },
    {
     "data": {
      "text/html": [
       "<div>\n",
       "<style scoped>\n",
       "    .dataframe tbody tr th:only-of-type {\n",
       "        vertical-align: middle;\n",
       "    }\n",
       "\n",
       "    .dataframe tbody tr th {\n",
       "        vertical-align: top;\n",
       "    }\n",
       "\n",
       "    .dataframe thead th {\n",
       "        text-align: right;\n",
       "    }\n",
       "</style>\n",
       "<table border=\"1\" class=\"dataframe\">\n",
       "  <thead>\n",
       "    <tr style=\"text-align: right;\">\n",
       "      <th></th>\n",
       "      <th>Unnamed: 0.1</th>\n",
       "      <th>date</th>\n",
       "      <th>vac_number</th>\n",
       "    </tr>\n",
       "  </thead>\n",
       "  <tbody>\n",
       "    <tr>\n",
       "      <th>14</th>\n",
       "      <td>NaN</td>\n",
       "      <td>2022-11-07</td>\n",
       "      <td>1444.0</td>\n",
       "    </tr>\n",
       "    <tr>\n",
       "      <th>15</th>\n",
       "      <td>NaN</td>\n",
       "      <td>2022-11-08</td>\n",
       "      <td>1480.0</td>\n",
       "    </tr>\n",
       "    <tr>\n",
       "      <th>16</th>\n",
       "      <td>NaN</td>\n",
       "      <td>2022-11-09</td>\n",
       "      <td>1481.0</td>\n",
       "    </tr>\n",
       "    <tr>\n",
       "      <th>17</th>\n",
       "      <td>NaN</td>\n",
       "      <td>2023-03-14</td>\n",
       "      <td>1623.0</td>\n",
       "    </tr>\n",
       "    <tr>\n",
       "      <th>18</th>\n",
       "      <td>NaN</td>\n",
       "      <td>2023-04-27</td>\n",
       "      <td>1645.0</td>\n",
       "    </tr>\n",
       "  </tbody>\n",
       "</table>\n",
       "</div>"
      ],
      "text/plain": [
       "    Unnamed: 0.1        date  vac_number\n",
       "14           NaN  2022-11-07      1444.0\n",
       "15           NaN  2022-11-08      1480.0\n",
       "16           NaN  2022-11-09      1481.0\n",
       "17           NaN  2023-03-14      1623.0\n",
       "18           NaN  2023-04-27      1645.0"
      ]
     },
     "metadata": {},
     "output_type": "display_data"
    }
   ],
   "source": [
    "parser.save_file('data_python')\n",
    "parser.save_collection('data_collection')"
   ]
  },
  {
   "cell_type": "code",
   "execution_count": null,
   "id": "744dbaed-ad85-4f7a-9644-81d22cbfde7c",
   "metadata": {},
   "outputs": [],
   "source": []
  }
 ],
 "metadata": {
  "kernelspec": {
   "display_name": "Python 3 (ipykernel)",
   "language": "python",
   "name": "python3"
  },
  "language_info": {
   "codemirror_mode": {
    "name": "ipython",
    "version": 3
   },
   "file_extension": ".py",
   "mimetype": "text/x-python",
   "name": "python",
   "nbconvert_exporter": "python",
   "pygments_lexer": "ipython3",
   "version": "3.10.11"
  }
 },
 "nbformat": 4,
 "nbformat_minor": 5
}
