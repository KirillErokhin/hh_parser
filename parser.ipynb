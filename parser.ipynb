{
 "cells": [
  {
   "cell_type": "code",
   "execution_count": 1,
   "id": "01094464-0eea-47f3-9f57-6c0e0d049235",
   "metadata": {},
   "outputs": [],
   "source": [
    "from hh_parser import vac_parser\n",
    "import os\n",
    "import pandas as pd"
   ]
  },
  {
   "cell_type": "code",
   "execution_count": 2,
   "id": "b39cfd99-16b3-40bf-a3f9-1afa492325b9",
   "metadata": {},
   "outputs": [
    {
     "name": "stdout",
     "output_type": "stream",
     "text": [
      "Количество страниц для парсинга: 143\n"
     ]
    }
   ],
   "source": [
    "url = 'https://api.hh.ru/vacancies'\n",
    "\n",
    "text = 'data python'\n",
    "\n",
    "path = os.getcwd()\n",
    "\n",
    "parser = vac_parser(url, path, text)\n",
    "parser.check_num_pages()"
   ]
  },
  {
   "cell_type": "code",
   "execution_count": 3,
   "id": "4fc54c47-75f8-483c-a0c4-cc93c16d6d1e",
   "metadata": {},
   "outputs": [
    {
     "name": "stderr",
     "output_type": "stream",
     "text": [
      "100%|█████████████████████████████████████████████████████████████████████████████████████████████████████████████████████████████████████████████████████████████████████| 143/143 [14:33<00:00,  6.11s/it]\n"
     ]
    }
   ],
   "source": [
    "parser.start_final_parse()"
   ]
  },
  {
   "cell_type": "code",
   "execution_count": 6,
   "id": "7a8f5fe5-dde1-4239-bc5a-3891a8ea34d2",
   "metadata": {},
   "outputs": [
    {
     "name": "stdout",
     "output_type": "stream",
     "text": [
      "Информация о сегодня сохранена\n"
     ]
    },
    {
     "data": {
      "text/html": [
       "<div>\n",
       "<style scoped>\n",
       "    .dataframe tbody tr th:only-of-type {\n",
       "        vertical-align: middle;\n",
       "    }\n",
       "\n",
       "    .dataframe tbody tr th {\n",
       "        vertical-align: top;\n",
       "    }\n",
       "\n",
       "    .dataframe thead th {\n",
       "        text-align: right;\n",
       "    }\n",
       "</style>\n",
       "<table border=\"1\" class=\"dataframe\">\n",
       "  <thead>\n",
       "    <tr style=\"text-align: right;\">\n",
       "      <th></th>\n",
       "      <th>date</th>\n",
       "      <th>vac_number</th>\n",
       "    </tr>\n",
       "  </thead>\n",
       "  <tbody>\n",
       "    <tr>\n",
       "      <th>11</th>\n",
       "      <td>2022-10-31</td>\n",
       "      <td>1432.0</td>\n",
       "    </tr>\n",
       "    <tr>\n",
       "      <th>12</th>\n",
       "      <td>2022-11-01</td>\n",
       "      <td>1442.0</td>\n",
       "    </tr>\n",
       "    <tr>\n",
       "      <th>13</th>\n",
       "      <td>2022-11-06</td>\n",
       "      <td>1425.0</td>\n",
       "    </tr>\n",
       "    <tr>\n",
       "      <th>14</th>\n",
       "      <td>2022-11-06</td>\n",
       "      <td>1425.0</td>\n",
       "    </tr>\n",
       "    <tr>\n",
       "      <th>15</th>\n",
       "      <td>2022-11-06</td>\n",
       "      <td>1425.0</td>\n",
       "    </tr>\n",
       "  </tbody>\n",
       "</table>\n",
       "</div>"
      ],
      "text/plain": [
       "          date  vac_number\n",
       "11  2022-10-31      1432.0\n",
       "12  2022-11-01      1442.0\n",
       "13  2022-11-06      1425.0\n",
       "14  2022-11-06      1425.0\n",
       "15  2022-11-06      1425.0"
      ]
     },
     "metadata": {},
     "output_type": "display_data"
    }
   ],
   "source": [
    "parser.save_file('data_python')\n",
    "parser.save_collection('data_collection')"
   ]
  },
  {
   "cell_type": "code",
   "execution_count": null,
   "id": "dfec6ed5-2168-42c2-9984-06005a7c5aa4",
   "metadata": {},
   "outputs": [],
   "source": []
  }
 ],
 "metadata": {
  "kernelspec": {
   "display_name": "Python 3 (ipykernel)",
   "language": "python",
   "name": "python3"
  },
  "language_info": {
   "codemirror_mode": {
    "name": "ipython",
    "version": 3
   },
   "file_extension": ".py",
   "mimetype": "text/x-python",
   "name": "python",
   "nbconvert_exporter": "python",
   "pygments_lexer": "ipython3",
   "version": "3.9.13"
  }
 },
 "nbformat": 4,
 "nbformat_minor": 5
}
